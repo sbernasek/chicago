{
 "cells": [
  {
   "cell_type": "code",
   "execution_count": 5,
   "metadata": {
    "scrolled": true
   },
   "outputs": [],
   "source": [
    "import sys, os\n",
    "if '../' not in sys.path:\n",
    "    sys.path.insert(0, '../')\n",
    "\n",
    "import pandas as pd\n",
    "import matplotlib.pyplot as plt\n",
    "import numpy as np\n",
    "from scipy.stats import pearsonr\n",
    "\n",
    "from modules.licensing import LicensingData\n",
    "from modules.realestate import RealEstateData\n",
    "from modules.dynamics import *\n",
    "from modules.io import read_json, write_json\n",
    "\n",
    "from matplotlib.lines import Line2D\n",
    "red_line = Line2D([], [], color='r', lw=3, label='60622')\n",
    "\n",
    "%reload_ext autoreload\n",
    "%autoreload 2\n",
    "%matplotlib inline"
   ]
  },
  {
   "cell_type": "markdown",
   "metadata": {},
   "source": [
    "# Read and preprocess raw data"
   ]
  },
  {
   "cell_type": "code",
   "execution_count": null,
   "metadata": {
    "scrolled": true
   },
   "outputs": [],
   "source": [
    "# read and preprocess licensing data, then save to hdf\n",
    "# licensing = LicensingData()\n",
    "# licensing.save()"
   ]
  },
  {
   "cell_type": "markdown",
   "metadata": {},
   "source": [
    "# Load data"
   ]
  },
  {
   "cell_type": "code",
   "execution_count": 2,
   "metadata": {
    "scrolled": true
   },
   "outputs": [],
   "source": [
    "datadir = '../chicago'\n",
    "property_values_path = os.path.join(datadir, 'realestate.hdf')\n",
    "\n",
    "# load property values\n",
    "mvalfah = pd.concat(RealEstateData(property_values_path), axis=1)"
   ]
  },
  {
   "cell_type": "code",
   "execution_count": 3,
   "metadata": {
    "scrolled": true
   },
   "outputs": [],
   "source": [
    "datadir = '../chicago'\n",
    "licensing_data_path = os.path.join(datadir, 'licensing.hdf')\n",
    "\n",
    "# load licenses and temporarily exclude those outsize zipcodes for which real estate values are unavailable\n",
    "licenses = LicensingData.load(licensing_data_path)\n",
    "licenses = licenses[licenses['ZIP CODE'].isin(mvalfah.columns)]"
   ]
  },
  {
   "cell_type": "code",
   "execution_count": 4,
   "metadata": {
    "scrolled": true
   },
   "outputs": [],
   "source": [
    "naming = {\n",
    "    'ID': 'RECORD_ID',\n",
    "    'LICENSE ID': 'LICENSE_ID',\n",
    "    'ACCOUNT NUMBER': 'ACCOUNT_ID',\n",
    "    'SITE NUMBER': 'SITE_ID',\n",
    "    'LEGAL NAME': 'NAME',\n",
    "    'DOING BUSINESS AS NAME': 'DBA',\n",
    "    'ZIP CODE': 'ZIP',\n",
    "    'LICENSE CODE': 'CODE',\n",
    "    'LICENSE DESCRIPTION': 'CODE_DESCRIPTION',\n",
    "    'BUSINESS ACTIVITY ID': 'ACTIVITY_ID',\n",
    "    'BUSINESS ACTIVITY': 'ACTIVITY',\n",
    "    'LICENSE NUMBER': 'LICENSE_NUMBER',\n",
    "    'APPLICATION TYPE': 'APPLICATION_TYPE',\n",
    "    'LICENSE STATUS': 'STATUS',\n",
    "    'DATE ISSUED': 'DATE_ISSUED',\n",
    "    'LICENSE STATUS CHANGE DATE': 'DATE_CHANGED',    \n",
    "    'LICENSE TERM START DATE': 'DATE_START', \n",
    "    'LICENSE TERM EXPIRATION DATE': 'DATE_END',\n",
    "    'APPLICATION REQUIREMENTS COMPLETE': 'DATE_COMPLETE',\n",
    "    'PAYMENT DATE': 'DATE_PAID',\n",
    "    'LICENSE APPROVED FOR ISSUANCE': 'DATE_APPROVED',\n",
    "    'APPLICATION CREATED DATE': 'DATE_CREATED'\n",
    "    }\n",
    "licenses.rename(naming, axis=1, inplace=True)\n",
    "\n",
    "# exclude record ID (redundant)\n",
    "licenses.drop('RECORD_ID', axis=1, inplace=True)\n",
    "licenses.drop('CONDITIONAL APPROVAL', axis=1, inplace=True)"
   ]
  },
  {
   "cell_type": "code",
   "execution_count": 5,
   "metadata": {
    "scrolled": true
   },
   "outputs": [],
   "source": [
    "# fix conflicting license number\n",
    "index = licenses.index[licenses.LICENSE_ID==1237028][0]\n",
    "licenses.loc[index, 'LICENSE_NUMBER'] = 2022"
   ]
  },
  {
   "cell_type": "code",
   "execution_count": 6,
   "metadata": {
    "scrolled": true
   },
   "outputs": [],
   "source": [
    "# split locations into separate database\n",
    "location_vars = ['NAME', 'DBA', 'ADDRESS', 'CITY', 'STATE', 'ZIP', \n",
    "                 'WARD', 'PRECINCT', 'WARD PRECINCT', 'POLICE DISTRICT', \n",
    "                 'LATITUDE', 'LONGITUDE', 'LOCATION', 'SSA']\n",
    "locations = licenses.groupby(['ACCOUNT_ID', 'SITE_ID'])[location_vars].first()\n",
    "locations.sort_index(level=0, inplace=True)\n",
    "locations.drop(['WARD PRECINCT', 'LOCATION'], axis=1, inplace=True)\n",
    "licenses.drop(labels=location_vars, axis=1, inplace=True)"
   ]
  },
  {
   "cell_type": "code",
   "execution_count": 7,
   "metadata": {
    "scrolled": true
   },
   "outputs": [],
   "source": [
    "# make license ID the new index\n",
    "licenses.set_index('LICENSE_ID', inplace=True)"
   ]
  },
  {
   "cell_type": "code",
   "execution_count": 8,
   "metadata": {
    "scrolled": true
   },
   "outputs": [],
   "source": [
    "# reorder collumns\n",
    "column_order = ['ACCOUNT_ID', 'SITE_ID', 'LICENSE_NUMBER', 'STATUS', 'APPLICATION_TYPE',\n",
    "               'CODE', 'CODE_DESCRIPTION', 'ACTIVITY_ID', 'ACTIVITY','DATE_START', 'DATE_END',\n",
    "                'DATE_CREATED', 'DATE_COMPLETE', 'DATE_PAID', 'DATE_APPROVED', 'DATE_ISSUED' , 'DATE_CHANGED']\n",
    "licenses = licenses[column_order]"
   ]
  },
  {
   "cell_type": "code",
   "execution_count": 9,
   "metadata": {
    "scrolled": true
   },
   "outputs": [],
   "source": [
    "licenses['START'] = licenses.DATE_START\n",
    "\n",
    "# fill in start dates with issued date (where unavailable)\n",
    "no_start = licenses[licenses.DATE_START.isnull()].index\n",
    "licenses.loc[no_start, 'START'] = licenses.loc[no_start, 'DATE_ISSUED']"
   ]
  },
  {
   "cell_type": "code",
   "execution_count": 10,
   "metadata": {
    "scrolled": true
   },
   "outputs": [],
   "source": [
    "# store cancellations\n",
    "cancellations = licenses[licenses.STATUS=='AAC']\n",
    "revokations = licenses[licenses.STATUS=='REV']"
   ]
  },
  {
   "cell_type": "code",
   "execution_count": 15,
   "metadata": {
    "scrolled": true
   },
   "outputs": [],
   "source": [
    "# set license end date\n",
    "licenses['END'] = licenses.DATE_END\n",
    "\n",
    "# fix 90 day term length for shared kitchens\n",
    "short_terms = licenses.ACTIVITY_ID=='805'\n",
    "licenses.loc[short_terms, 'END'] = licenses.loc[short_terms, 'START'] + pd.Timedelta(value=90, unit='D')\n",
    "\n",
    "# fix incorrect end date\n",
    "#error_index = licenses.index[licenses.LICENSE_ID==1300260]\n",
    "licenses.loc[1300260, 'END'] = licenses.loc[1300260, 'START'] + pd.Timedelta(value=1, unit='Y')\n",
    "\n",
    "# assign end date to terminated licenses\n",
    "terminated_ind = licenses.STATUS.isin(['AAC', 'REV'])\n",
    "licenses.loc[terminated_ind, 'END'] = licenses.loc[terminated_ind, 'DATE_CHANGED']\n",
    "licenses.loc[terminated_ind, 'START'] = licenses.loc[terminated_ind, 'DATE_CHANGED']"
   ]
  },
  {
   "cell_type": "code",
   "execution_count": 16,
   "metadata": {
    "scrolled": true
   },
   "outputs": [],
   "source": [
    "# exclude name/location changes (temporary)\n",
    "changes = licenses[~licenses.APPLICATION_TYPE.isin(['RENEW', 'ISSUE'])]\n",
    "licenses = licenses[licenses.APPLICATION_TYPE.isin(['RENEW', 'ISSUE'])]"
   ]
  },
  {
   "cell_type": "code",
   "execution_count": 17,
   "metadata": {
    "scrolled": true
   },
   "outputs": [],
   "source": [
    "# exclude licenses whose end date falls before start date\n",
    "incorrect_dates = (licenses.END - licenses.START) < pd.Timedelta(0)\n",
    "licenses = licenses[~incorrect_dates]\n",
    "\n",
    "# exclude licences whose terms ended before 2001\n",
    "licenses = licenses[licenses.END.apply(lambda x: x.year >= 2001)]\n",
    "\n",
    "# exclude reapplications/inquiries\n",
    "licenses = licenses[licenses.STATUS.isin(['AAI', 'AAC', 'REV'])]"
   ]
  },
  {
   "cell_type": "code",
   "execution_count": 20,
   "metadata": {
    "scrolled": true
   },
   "outputs": [],
   "source": [
    "# sort by start date\n",
    "licenses.sort_values(by='START', inplace=True)"
   ]
  },
  {
   "cell_type": "code",
   "execution_count": null,
   "metadata": {
    "scrolled": true
   },
   "outputs": [],
   "source": [
    "# save to HDF\n",
    "licenses.to_hdf('../chicago/data/data.hdf', 'licenses', mode='a')\n",
    "locations.to_hdf('../chicago/data/data.hdf', 'locations', mode='a')\n",
    "changes.to_hdf('../chicago/data/data.hdf', 'changes', mode='a')\n",
    "cancellations.to_hdf('../chicago/data/data.hdf', 'cancellations', mode='a')\n",
    "revokations.to_hdf('../chicago/data/data.hdf', 'revokations', mode='a')"
   ]
  },
  {
   "cell_type": "markdown",
   "metadata": {},
   "source": [
    "# PARSE INDIVIDUAL LICENSE HISTORIES"
   ]
  },
  {
   "cell_type": "code",
   "execution_count": 67,
   "metadata": {
    "scrolled": true
   },
   "outputs": [],
   "source": [
    "from time import time\n",
    "from modules.licensing import License"
   ]
  },
  {
   "cell_type": "code",
   "execution_count": 68,
   "metadata": {
    "scrolled": true
   },
   "outputs": [],
   "source": [
    "\"\"\"\n",
    "PARSE UNIQUE LICENSES\n",
    "\"\"\"\n",
    "\n",
    "license_history, failed = [], []\n",
    "for (indices, records) in licenses.groupby(['ACCOUNT_ID', 'LICENSE_NUMBER']):   \n",
    "    try:\n",
    "        license_history.append(License(records).aggregate())\n",
    "    except:\n",
    "        failed.append(indices)\n",
    "        \n",
    "license_history = pd.DataFrame(license_history)\n",
    "\n",
    "# reindex and set column order\n",
    "license_history.set_index('LICENSE_NUMBER', inplace=True)\n",
    "column_order = ['ACCOUNT_ID', 'SITE_ID', 'STATUS', 'START', 'END', 'ORIGINAL', 'CONTINUOUS', 'CODE', 'CODE_DESCRIPTION', 'ACTIVITY', 'ACTIVITY_ID']\n",
    "license_history = license_history[column_order]"
   ]
  },
  {
   "cell_type": "code",
   "execution_count": 117,
   "metadata": {
    "scrolled": true
   },
   "outputs": [],
   "source": [
    "# send active end date to today\n",
    "license_history.loc[license_history.STATUS == 'ACTIVE', 'END'] = pd.Timestamp.today()\n",
    "license_history['LIFESPAN'] = license_history.END - license_history.START"
   ]
  },
  {
   "cell_type": "code",
   "execution_count": 118,
   "metadata": {},
   "outputs": [],
   "source": [
    "# convert activity strings to tuples\n",
    "license_history['ACTIVITY_ID'] = license_history.ACTIVITY_ID.apply(lambda x: tuple(x.split(' | ')) if type(x) == str else tuple())\n",
    "license_history['ACTIVITY'] = license_history.ACTIVITY.apply(lambda x: tuple(x.split(' | ')) if type(x) == str else tuple())"
   ]
  },
  {
   "cell_type": "code",
   "execution_count": 119,
   "metadata": {},
   "outputs": [],
   "source": [
    "# map license codes to descriptions\n",
    "license_history.CODE = license_history.CODE.astype(str)\n",
    "codebook = dict(zip(license_history['CODE'].unique(), license_history['CODE_DESCRIPTION'].unique()))"
   ]
  },
  {
   "cell_type": "code",
   "execution_count": 121,
   "metadata": {
    "scrolled": true
   },
   "outputs": [],
   "source": [
    "# map activity names to activities\n",
    "activitybook = {}\n",
    "for ID, NAME in zip(license_history.ACTIVITY_ID.unique(), license_history.ACTIVITY.unique()):    \n",
    "    for i, n in zip(ID, NAME):\n",
    "        activitybook[i] = n"
   ]
  },
  {
   "cell_type": "code",
   "execution_count": 124,
   "metadata": {
    "scrolled": true
   },
   "outputs": [],
   "source": [
    "# remove descriptors\n",
    "license_history.drop(['CODE_DESCRIPTION', 'ACTIVITY'], axis=1, inplace=True)"
   ]
  },
  {
   "cell_type": "code",
   "execution_count": null,
   "metadata": {},
   "outputs": [],
   "source": [
    "# reset index\n",
    "location_history.set_index(['ACCOUNT_ID', 'SITE_ID'], inplace=True)\n",
    "location_history.sort_values(by='START', inplace=True)"
   ]
  },
  {
   "cell_type": "code",
   "execution_count": 142,
   "metadata": {
    "scrolled": true
   },
   "outputs": [],
   "source": [
    "# save preprocessed data\n",
    "license_history.to_hdf('../chicago/data/processed.hdf', 'licenses', mode='a')\n",
    "write_json('../chicago/data/license_codebook.json', codebook)\n",
    "write_json('../chicago/data/activity_codebook.json', activitybook)"
   ]
  },
  {
   "cell_type": "markdown",
   "metadata": {},
   "source": [
    "# LOAD PREPROCESSED LICENSE HISTORY"
   ]
  },
  {
   "cell_type": "code",
   "execution_count": 7,
   "metadata": {
    "scrolled": true
   },
   "outputs": [],
   "source": [
    "# read preprocessed data (license history)\n",
    "license_history = pd.read_hdf('../chicago/data/processed.hdf', 'licenses')\n",
    "codebook = read_json('../chicago/data/license_codebook.json')\n",
    "activitybook = read_json('../chicago/data/activity_codebook.json')"
   ]
  },
  {
   "cell_type": "markdown",
   "metadata": {},
   "source": [
    "# AGGREGATE ACROSS INDIVIDUAL LOCATIONS"
   ]
  },
  {
   "cell_type": "code",
   "execution_count": 13,
   "metadata": {
    "scrolled": true
   },
   "outputs": [],
   "source": [
    "\"\"\"\n",
    "AGGREGATE INDIVIDUAL LOCATIONS.\n",
    "\"\"\"\n",
    "\n",
    "from modules.locations import Location\n",
    "\n",
    "# identify unique locations\n",
    "location_data = license_history.groupby(['ACCOUNT_ID', 'SITE_ID'])\n",
    "\n",
    "location_history = []\n",
    "for index, records in location_data:\n",
    "    location_history.append(Location(records).aggregate())\n",
    "location_history = pd.DataFrame(location_history)\n",
    "\n",
    "# set column order\n",
    "column_order = ['ACCOUNT_ID', 'SITE_ID', 'ACTIVE', 'START', 'END', 'LIFESPAN', 'ORIGINAL', 'CONTINUOUS', 'NUM_LICENSES', 'ACTIVITIES', 'CODES']\n",
    "location_history = location_history[column_order]\n",
    "\n",
    "# set lifespan to days\n",
    "location_history.LIFESPAN = location_history.LIFESPAN.apply(lambda x: x.days)\n",
    "\n",
    "# SAVE\n",
    "location_history.to_hdf('../chicago/data/processed.hdf', 'location_history', mode='a')"
   ]
  },
  {
   "cell_type": "markdown",
   "metadata": {},
   "source": [
    "# LOAD AGGREGATED LOCATION DATA"
   ]
  },
  {
   "cell_type": "code",
   "execution_count": 28,
   "metadata": {
    "scrolled": true
   },
   "outputs": [],
   "source": [
    "# load aggregate location data\n",
    "location_history = pd.read_hdf('../chicago/data/processed.hdf', 'location_history')\n",
    "#locations.loc[locations.START.apply(lambda x: x.year<2002), 'ORIGINAL'] = True"
   ]
  },
  {
   "cell_type": "code",
   "execution_count": null,
   "metadata": {
    "scrolled": true
   },
   "outputs": [],
   "source": [
    "# read locations\n",
    "locations = pd.read_hdf('../chicago/data/data.hdf', 'locations')"
   ]
  },
  {
   "cell_type": "code",
   "execution_count": 16,
   "metadata": {},
   "outputs": [],
   "source": []
  },
  {
   "cell_type": "code",
   "execution_count": null,
   "metadata": {},
   "outputs": [],
   "source": []
  },
  {
   "cell_type": "code",
   "execution_count": null,
   "metadata": {},
   "outputs": [],
   "source": []
  },
  {
   "cell_type": "code",
   "execution_count": null,
   "metadata": {},
   "outputs": [],
   "source": []
  },
  {
   "cell_type": "code",
   "execution_count": null,
   "metadata": {},
   "outputs": [],
   "source": []
  },
  {
   "cell_type": "code",
   "execution_count": 140,
   "metadata": {
    "scrolled": true
   },
   "outputs": [],
   "source": [
    "original_locations = locations[locations.ORIGINAL]\n",
    "new_locations = locations[locations.ORIGINAL==False]"
   ]
  },
  {
   "cell_type": "code",
   "execution_count": 141,
   "metadata": {
    "scrolled": true
   },
   "outputs": [
    {
     "data": {
      "text/plain": [
       "<matplotlib.axes._subplots.AxesSubplot at 0x1549f97f0>"
      ]
     },
     "execution_count": 141,
     "metadata": {},
     "output_type": "execute_result"
    },
    {
     "data": {
      "image/png": "[encoded data removed]",
      "text/plain": [
       "<Figure size 432x288 with 1 Axes>"
      ]
     },
     "metadata": {
      "needs_background": "light"
     },
     "output_type": "display_data"
    }
   ],
   "source": [
    "original_locations.START.hist()"
   ]
  },
  {
   "cell_type": "code",
   "execution_count": 142,
   "metadata": {
    "scrolled": true
   },
   "outputs": [
    {
     "data": {
      "text/plain": [
       "<matplotlib.axes._subplots.AxesSubplot at 0x153e0e358>"
      ]
     },
     "execution_count": 142,
     "metadata": {},
     "output_type": "execute_result"
    },
    {
     "data": {
      "image/png": "[encoded data removed]",
      "text/plain": [
       "<Figure size 432x288 with 1 Axes>"
      ]
     },
     "metadata": {
      "needs_background": "light"
     },
     "output_type": "display_data"
    }
   ],
   "source": [
    "new_locations.START.hist()"
   ]
  },
  {
   "cell_type": "code",
   "execution_count": null,
   "metadata": {
    "scrolled": true
   },
   "outputs": [],
   "source": [
    "\"\"\"\n",
    "1. group to find those that start each year\n",
    "2. group to find those that die each year\n",
    "\"\"\""
   ]
  },
  {
   "cell_type": "code",
   "execution_count": null,
   "metadata": {
    "scrolled": true
   },
   "outputs": [],
   "source": []
  },
  {
   "cell_type": "code",
   "execution_count": null,
   "metadata": {
    "scrolled": true
   },
   "outputs": [],
   "source": []
  },
  {
   "cell_type": "code",
   "execution_count": 17,
   "metadata": {
    "scrolled": true
   },
   "outputs": [],
   "source": [
    "unique_codes = np.unique(locations.CODES.unique().sum())"
   ]
  },
  {
   "cell_type": "code",
   "execution_count": null,
   "metadata": {
    "scrolled": true
   },
   "outputs": [],
   "source": []
  },
  {
   "cell_type": "code",
   "execution_count": null,
   "metadata": {
    "scrolled": true
   },
   "outputs": [],
   "source": []
  },
  {
   "cell_type": "code",
   "execution_count": null,
   "metadata": {
    "scrolled": true
   },
   "outputs": [],
   "source": []
  },
  {
   "cell_type": "code",
   "execution_count": null,
   "metadata": {
    "scrolled": true
   },
   "outputs": [],
   "source": []
  },
  {
   "cell_type": "code",
   "execution_count": null,
   "metadata": {
    "scrolled": true
   },
   "outputs": [],
   "source": []
  },
  {
   "cell_type": "code",
   "execution_count": 97,
   "metadata": {
    "scrolled": true
   },
   "outputs": [],
   "source": []
  },
  {
   "cell_type": "code",
   "execution_count": 147,
   "metadata": {
    "scrolled": true
   },
   "outputs": [],
   "source": [
    "mgroup = pd.Grouper(key='START', freq='1M', label='right')\n",
    "qgroup = pd.Grouper(key='START', freq='3M', label='right')\n",
    "ygroup = pd.Grouper(key='START', freq='1Y', label='right')"
   ]
  },
  {
   "cell_type": "code",
   "execution_count": 92,
   "metadata": {
    "scrolled": true
   },
   "outputs": [],
   "source": [
    "gb = new_locations.groupby(ygroup)"
   ]
  },
  {
   "cell_type": "code",
   "execution_count": 98,
   "metadata": {
    "scrolled": true
   },
   "outputs": [],
   "source": [
    "defunct = locations[locations.ACTIVE==False]"
   ]
  },
  {
   "cell_type": "code",
   "execution_count": 148,
   "metadata": {
    "scrolled": false
   },
   "outputs": [
    {
     "data": {
      "text/html": [
       "<div>\n",
       "<style scoped>\n",
       "    .dataframe tbody tr th:only-of-type {\n",
       "        vertical-align: middle;\n",
       "    }\n",
       "\n",
       "    .dataframe tbody tr th {\n",
       "        vertical-align: top;\n",
       "    }\n",
       "\n",
       "    .dataframe thead th {\n",
       "        text-align: right;\n",
       "    }\n",
       "</style>\n",
       "<table border=\"1\" class=\"dataframe\">\n",
       "  <thead>\n",
       "    <tr style=\"text-align: right;\">\n",
       "      <th></th>\n",
       "      <th>ACCOUNT_ID</th>\n",
       "      <th>ACTIVE</th>\n",
       "      <th>ACTIVITIES</th>\n",
       "      <th>ADDRESS</th>\n",
       "      <th>CITY</th>\n",
       "      <th>CODES</th>\n",
       "      <th>CONTINUOUS</th>\n",
       "      <th>DBA</th>\n",
       "      <th>LIFESPAN</th>\n",
       "      <th>NUM_LICENSES</th>\n",
       "      <th>ORIGINAL</th>\n",
       "      <th>SITE_ID</th>\n",
       "      <th>START</th>\n",
       "      <th>ZIP CODE</th>\n",
       "    </tr>\n",
       "    <tr>\n",
       "      <th>END</th>\n",
       "      <th></th>\n",
       "      <th></th>\n",
       "      <th></th>\n",
       "      <th></th>\n",
       "      <th></th>\n",
       "      <th></th>\n",
       "      <th></th>\n",
       "      <th></th>\n",
       "      <th></th>\n",
       "      <th></th>\n",
       "      <th></th>\n",
       "      <th></th>\n",
       "      <th></th>\n",
       "      <th></th>\n",
       "    </tr>\n",
       "  </thead>\n",
       "  <tbody>\n",
       "    <tr>\n",
       "      <th>1901-12-31</th>\n",
       "      <td>2</td>\n",
       "      <td>2</td>\n",
       "      <td>2</td>\n",
       "      <td>2</td>\n",
       "      <td>2</td>\n",
       "      <td>2</td>\n",
       "      <td>2</td>\n",
       "      <td>2</td>\n",
       "      <td>2</td>\n",
       "      <td>2</td>\n",
       "      <td>2</td>\n",
       "      <td>2</td>\n",
       "      <td>2</td>\n",
       "      <td>2</td>\n",
       "    </tr>\n",
       "    <tr>\n",
       "      <th>1902-12-31</th>\n",
       "      <td>0</td>\n",
       "      <td>0</td>\n",
       "      <td>0</td>\n",
       "      <td>0</td>\n",
       "      <td>0</td>\n",
       "      <td>0</td>\n",
       "      <td>0</td>\n",
       "      <td>0</td>\n",
       "      <td>0</td>\n",
       "      <td>0</td>\n",
       "      <td>0</td>\n",
       "      <td>0</td>\n",
       "      <td>0</td>\n",
       "      <td>0</td>\n",
       "    </tr>\n",
       "    <tr>\n",
       "      <th>1903-12-31</th>\n",
       "      <td>0</td>\n",
       "      <td>0</td>\n",
       "      <td>0</td>\n",
       "      <td>0</td>\n",
       "      <td>0</td>\n",
       "      <td>0</td>\n",
       "      <td>0</td>\n",
       "      <td>0</td>\n",
       "      <td>0</td>\n",
       "      <td>0</td>\n",
       "      <td>0</td>\n",
       "      <td>0</td>\n",
       "      <td>0</td>\n",
       "      <td>0</td>\n",
       "    </tr>\n",
       "    <tr>\n",
       "      <th>1904-12-31</th>\n",
       "      <td>0</td>\n",
       "      <td>0</td>\n",
       "      <td>0</td>\n",
       "      <td>0</td>\n",
       "      <td>0</td>\n",
       "      <td>0</td>\n",
       "      <td>0</td>\n",
       "      <td>0</td>\n",
       "      <td>0</td>\n",
       "      <td>0</td>\n",
       "      <td>0</td>\n",
       "      <td>0</td>\n",
       "      <td>0</td>\n",
       "      <td>0</td>\n",
       "    </tr>\n",
       "    <tr>\n",
       "      <th>1905-12-31</th>\n",
       "      <td>0</td>\n",
       "      <td>0</td>\n",
       "      <td>0</td>\n",
       "      <td>0</td>\n",
       "      <td>0</td>\n",
       "      <td>0</td>\n",
       "      <td>0</td>\n",
       "      <td>0</td>\n",
       "      <td>0</td>\n",
       "      <td>0</td>\n",
       "      <td>0</td>\n",
       "      <td>0</td>\n",
       "      <td>0</td>\n",
       "      <td>0</td>\n",
       "    </tr>\n",
       "    <tr>\n",
       "      <th>1906-12-31</th>\n",
       "      <td>0</td>\n",
       "      <td>0</td>\n",
       "      <td>0</td>\n",
       "      <td>0</td>\n",
       "      <td>0</td>\n",
       "      <td>0</td>\n",
       "      <td>0</td>\n",
       "      <td>0</td>\n",
       "      <td>0</td>\n",
       "      <td>0</td>\n",
       "      <td>0</td>\n",
       "      <td>0</td>\n",
       "      <td>0</td>\n",
       "      <td>0</td>\n",
       "    </tr>\n",
       "    <tr>\n",
       "      <th>1907-12-31</th>\n",
       "      <td>0</td>\n",
       "      <td>0</td>\n",
       "      <td>0</td>\n",
       "      <td>0</td>\n",
       "      <td>0</td>\n",
       "      <td>0</td>\n",
       "      <td>0</td>\n",
       "      <td>0</td>\n",
       "      <td>0</td>\n",
       "      <td>0</td>\n",
       "      <td>0</td>\n",
       "      <td>0</td>\n",
       "      <td>0</td>\n",
       "      <td>0</td>\n",
       "    </tr>\n",
       "    <tr>\n",
       "      <th>1908-12-31</th>\n",
       "      <td>0</td>\n",
       "      <td>0</td>\n",
       "      <td>0</td>\n",
       "      <td>0</td>\n",
       "      <td>0</td>\n",
       "      <td>0</td>\n",
       "      <td>0</td>\n",
       "      <td>0</td>\n",
       "      <td>0</td>\n",
       "      <td>0</td>\n",
       "      <td>0</td>\n",
       "      <td>0</td>\n",
       "      <td>0</td>\n",
       "      <td>0</td>\n",
       "    </tr>\n",
       "    <tr>\n",
       "      <th>1909-12-31</th>\n",
       "      <td>0</td>\n",
       "      <td>0</td>\n",
       "      <td>0</td>\n",
       "      <td>0</td>\n",
       "      <td>0</td>\n",
       "      <td>0</td>\n",
       "      <td>0</td>\n",
       "      <td>0</td>\n",
       "      <td>0</td>\n",
       "      <td>0</td>\n",
       "      <td>0</td>\n",
       "      <td>0</td>\n",
       "      <td>0</td>\n",
       "      <td>0</td>\n",
       "    </tr>\n",
       "    <tr>\n",
       "      <th>1910-12-31</th>\n",
       "      <td>0</td>\n",
       "      <td>0</td>\n",
       "      <td>0</td>\n",
       "      <td>0</td>\n",
       "      <td>0</td>\n",
       "      <td>0</td>\n",
       "      <td>0</td>\n",
       "      <td>0</td>\n",
       "      <td>0</td>\n",
       "      <td>0</td>\n",
       "      <td>0</td>\n",
       "      <td>0</td>\n",
       "      <td>0</td>\n",
       "      <td>0</td>\n",
       "    </tr>\n",
       "    <tr>\n",
       "      <th>1911-12-31</th>\n",
       "      <td>0</td>\n",
       "      <td>0</td>\n",
       "      <td>0</td>\n",
       "      <td>0</td>\n",
       "      <td>0</td>\n",
       "      <td>0</td>\n",
       "      <td>0</td>\n",
       "      <td>0</td>\n",
       "      <td>0</td>\n",
       "      <td>0</td>\n",
       "      <td>0</td>\n",
       "      <td>0</td>\n",
       "      <td>0</td>\n",
       "      <td>0</td>\n",
       "    </tr>\n",
       "    <tr>\n",
       "      <th>1912-12-31</th>\n",
       "      <td>0</td>\n",
       "      <td>0</td>\n",
       "      <td>0</td>\n",
       "      <td>0</td>\n",
       "      <td>0</td>\n",
       "      <td>0</td>\n",
       "      <td>0</td>\n",
       "      <td>0</td>\n",
       "      <td>0</td>\n",
       "      <td>0</td>\n",
       "      <td>0</td>\n",
       "      <td>0</td>\n",
       "      <td>0</td>\n",
       "      <td>0</td>\n",
       "    </tr>\n",
       "    <tr>\n",
       "      <th>1913-12-31</th>\n",
       "      <td>0</td>\n",
       "      <td>0</td>\n",
       "      <td>0</td>\n",
       "      <td>0</td>\n",
       "      <td>0</td>\n",
       "      <td>0</td>\n",
       "      <td>0</td>\n",
       "      <td>0</td>\n",
       "      <td>0</td>\n",
       "      <td>0</td>\n",
       "      <td>0</td>\n",
       "      <td>0</td>\n",
       "      <td>0</td>\n",
       "      <td>0</td>\n",
       "    </tr>\n",
       "    <tr>\n",
       "      <th>1914-12-31</th>\n",
       "      <td>0</td>\n",
       "      <td>0</td>\n",
       "      <td>0</td>\n",
       "      <td>0</td>\n",
       "      <td>0</td>\n",
       "      <td>0</td>\n",
       "      <td>0</td>\n",
       "      <td>0</td>\n",
       "      <td>0</td>\n",
       "      <td>0</td>\n",
       "      <td>0</td>\n",
       "      <td>0</td>\n",
       "      <td>0</td>\n",
       "      <td>0</td>\n",
       "    </tr>\n",
       "    <tr>\n",
       "      <th>1915-12-31</th>\n",
       "      <td>0</td>\n",
       "      <td>0</td>\n",
       "      <td>0</td>\n",
       "      <td>0</td>\n",
       "      <td>0</td>\n",
       "      <td>0</td>\n",
       "      <td>0</td>\n",
       "      <td>0</td>\n",
       "      <td>0</td>\n",
       "      <td>0</td>\n",
       "      <td>0</td>\n",
       "      <td>0</td>\n",
       "      <td>0</td>\n",
       "      <td>0</td>\n",
       "    </tr>\n",
       "    <tr>\n",
       "      <th>1916-12-31</th>\n",
       "      <td>0</td>\n",
       "      <td>0</td>\n",
       "      <td>0</td>\n",
       "      <td>0</td>\n",
       "      <td>0</td>\n",
       "      <td>0</td>\n",
       "      <td>0</td>\n",
       "      <td>0</td>\n",
       "      <td>0</td>\n",
       "      <td>0</td>\n",
       "      <td>0</td>\n",
       "      <td>0</td>\n",
       "      <td>0</td>\n",
       "      <td>0</td>\n",
       "    </tr>\n",
       "    <tr>\n",
       "      <th>1917-12-31</th>\n",
       "      <td>0</td>\n",
       "      <td>0</td>\n",
       "      <td>0</td>\n",
       "      <td>0</td>\n",
       "      <td>0</td>\n",
       "      <td>0</td>\n",
       "      <td>0</td>\n",
       "      <td>0</td>\n",
       "      <td>0</td>\n",
       "      <td>0</td>\n",
       "      <td>0</td>\n",
       "      <td>0</td>\n",
       "      <td>0</td>\n",
       "      <td>0</td>\n",
       "    </tr>\n",
       "    <tr>\n",
       "      <th>1918-12-31</th>\n",
       "      <td>0</td>\n",
       "      <td>0</td>\n",
       "      <td>0</td>\n",
       "      <td>0</td>\n",
       "      <td>0</td>\n",
       "      <td>0</td>\n",
       "      <td>0</td>\n",
       "      <td>0</td>\n",
       "      <td>0</td>\n",
       "      <td>0</td>\n",
       "      <td>0</td>\n",
       "      <td>0</td>\n",
       "      <td>0</td>\n",
       "      <td>0</td>\n",
       "    </tr>\n",
       "    <tr>\n",
       "      <th>1919-12-31</th>\n",
       "      <td>0</td>\n",
       "      <td>0</td>\n",
       "      <td>0</td>\n",
       "      <td>0</td>\n",
       "      <td>0</td>\n",
       "      <td>0</td>\n",
       "      <td>0</td>\n",
       "      <td>0</td>\n",
       "      <td>0</td>\n",
       "      <td>0</td>\n",
       "      <td>0</td>\n",
       "      <td>0</td>\n",
       "      <td>0</td>\n",
       "      <td>0</td>\n",
       "    </tr>\n",
       "    <tr>\n",
       "      <th>1920-12-31</th>\n",
       "      <td>0</td>\n",
       "      <td>0</td>\n",
       "      <td>0</td>\n",
       "      <td>0</td>\n",
       "      <td>0</td>\n",
       "      <td>0</td>\n",
       "      <td>0</td>\n",
       "      <td>0</td>\n",
       "      <td>0</td>\n",
       "      <td>0</td>\n",
       "      <td>0</td>\n",
       "      <td>0</td>\n",
       "      <td>0</td>\n",
       "      <td>0</td>\n",
       "    </tr>\n",
       "    <tr>\n",
       "      <th>1921-12-31</th>\n",
       "      <td>0</td>\n",
       "      <td>0</td>\n",
       "      <td>0</td>\n",
       "      <td>0</td>\n",
       "      <td>0</td>\n",
       "      <td>0</td>\n",
       "      <td>0</td>\n",
       "      <td>0</td>\n",
       "      <td>0</td>\n",
       "      <td>0</td>\n",
       "      <td>0</td>\n",
       "      <td>0</td>\n",
       "      <td>0</td>\n",
       "      <td>0</td>\n",
       "    </tr>\n",
       "    <tr>\n",
       "      <th>1922-12-31</th>\n",
       "      <td>0</td>\n",
       "      <td>0</td>\n",
       "      <td>0</td>\n",
       "      <td>0</td>\n",
       "      <td>0</td>\n",
       "      <td>0</td>\n",
       "      <td>0</td>\n",
       "      <td>0</td>\n",
       "      <td>0</td>\n",
       "      <td>0</td>\n",
       "      <td>0</td>\n",
       "      <td>0</td>\n",
       "      <td>0</td>\n",
       "      <td>0</td>\n",
       "    </tr>\n",
       "    <tr>\n",
       "      <th>1923-12-31</th>\n",
       "      <td>0</td>\n",
       "      <td>0</td>\n",
       "      <td>0</td>\n",
       "      <td>0</td>\n",
       "      <td>0</td>\n",
       "      <td>0</td>\n",
       "      <td>0</td>\n",
       "      <td>0</td>\n",
       "      <td>0</td>\n",
       "      <td>0</td>\n",
       "      <td>0</td>\n",
       "      <td>0</td>\n",
       "      <td>0</td>\n",
       "      <td>0</td>\n",
       "    </tr>\n",
       "    <tr>\n",
       "      <th>1924-12-31</th>\n",
       "      <td>0</td>\n",
       "      <td>0</td>\n",
       "      <td>0</td>\n",
       "      <td>0</td>\n",
       "      <td>0</td>\n",
       "      <td>0</td>\n",
       "      <td>0</td>\n",
       "      <td>0</td>\n",
       "      <td>0</td>\n",
       "      <td>0</td>\n",
       "      <td>0</td>\n",
       "      <td>0</td>\n",
       "      <td>0</td>\n",
       "      <td>0</td>\n",
       "    </tr>\n",
       "    <tr>\n",
       "      <th>1925-12-31</th>\n",
       "      <td>0</td>\n",
       "      <td>0</td>\n",
       "      <td>0</td>\n",
       "      <td>0</td>\n",
       "      <td>0</td>\n",
       "      <td>0</td>\n",
       "      <td>0</td>\n",
       "      <td>0</td>\n",
       "      <td>0</td>\n",
       "      <td>0</td>\n",
       "      <td>0</td>\n",
       "      <td>0</td>\n",
       "      <td>0</td>\n",
       "      <td>0</td>\n",
       "    </tr>\n",
       "    <tr>\n",
       "      <th>1926-12-31</th>\n",
       "      <td>0</td>\n",
       "      <td>0</td>\n",
       "      <td>0</td>\n",
       "      <td>0</td>\n",
       "      <td>0</td>\n",
       "      <td>0</td>\n",
       "      <td>0</td>\n",
       "      <td>0</td>\n",
       "      <td>0</td>\n",
       "      <td>0</td>\n",
       "      <td>0</td>\n",
       "      <td>0</td>\n",
       "      <td>0</td>\n",
       "      <td>0</td>\n",
       "    </tr>\n",
       "    <tr>\n",
       "      <th>1927-12-31</th>\n",
       "      <td>0</td>\n",
       "      <td>0</td>\n",
       "      <td>0</td>\n",
       "      <td>0</td>\n",
       "      <td>0</td>\n",
       "      <td>0</td>\n",
       "      <td>0</td>\n",
       "      <td>0</td>\n",
       "      <td>0</td>\n",
       "      <td>0</td>\n",
       "      <td>0</td>\n",
       "      <td>0</td>\n",
       "      <td>0</td>\n",
       "      <td>0</td>\n",
       "    </tr>\n",
       "    <tr>\n",
       "      <th>1928-12-31</th>\n",
       "      <td>0</td>\n",
       "      <td>0</td>\n",
       "      <td>0</td>\n",
       "      <td>0</td>\n",
       "      <td>0</td>\n",
       "      <td>0</td>\n",
       "      <td>0</td>\n",
       "      <td>0</td>\n",
       "      <td>0</td>\n",
       "      <td>0</td>\n",
       "      <td>0</td>\n",
       "      <td>0</td>\n",
       "      <td>0</td>\n",
       "      <td>0</td>\n",
       "    </tr>\n",
       "    <tr>\n",
       "      <th>1929-12-31</th>\n",
       "      <td>0</td>\n",
       "      <td>0</td>\n",
       "      <td>0</td>\n",
       "      <td>0</td>\n",
       "      <td>0</td>\n",
       "      <td>0</td>\n",
       "      <td>0</td>\n",
       "      <td>0</td>\n",
       "      <td>0</td>\n",
       "      <td>0</td>\n",
       "      <td>0</td>\n",
       "      <td>0</td>\n",
       "      <td>0</td>\n",
       "      <td>0</td>\n",
       "    </tr>\n",
       "    <tr>\n",
       "      <th>1930-12-31</th>\n",
       "      <td>0</td>\n",
       "      <td>0</td>\n",
       "      <td>0</td>\n",
       "      <td>0</td>\n",
       "      <td>0</td>\n",
       "      <td>0</td>\n",
       "      <td>0</td>\n",
       "      <td>0</td>\n",
       "      <td>0</td>\n",
       "      <td>0</td>\n",
       "      <td>0</td>\n",
       "      <td>0</td>\n",
       "      <td>0</td>\n",
       "      <td>0</td>\n",
       "    </tr>\n",
       "    <tr>\n",
       "      <th>...</th>\n",
       "      <td>...</td>\n",
       "      <td>...</td>\n",
       "      <td>...</td>\n",
       "      <td>...</td>\n",
       "      <td>...</td>\n",
       "      <td>...</td>\n",
       "      <td>...</td>\n",
       "      <td>...</td>\n",
       "      <td>...</td>\n",
       "      <td>...</td>\n",
       "      <td>...</td>\n",
       "      <td>...</td>\n",
       "      <td>...</td>\n",
       "      <td>...</td>\n",
       "    </tr>\n",
       "    <tr>\n",
       "      <th>1989-12-31</th>\n",
       "      <td>0</td>\n",
       "      <td>0</td>\n",
       "      <td>0</td>\n",
       "      <td>0</td>\n",
       "      <td>0</td>\n",
       "      <td>0</td>\n",
       "      <td>0</td>\n",
       "      <td>0</td>\n",
       "      <td>0</td>\n",
       "      <td>0</td>\n",
       "      <td>0</td>\n",
       "      <td>0</td>\n",
       "      <td>0</td>\n",
       "      <td>0</td>\n",
       "    </tr>\n",
       "    <tr>\n",
       "      <th>1990-12-31</th>\n",
       "      <td>0</td>\n",
       "      <td>0</td>\n",
       "      <td>0</td>\n",
       "      <td>0</td>\n",
       "      <td>0</td>\n",
       "      <td>0</td>\n",
       "      <td>0</td>\n",
       "      <td>0</td>\n",
       "      <td>0</td>\n",
       "      <td>0</td>\n",
       "      <td>0</td>\n",
       "      <td>0</td>\n",
       "      <td>0</td>\n",
       "      <td>0</td>\n",
       "    </tr>\n",
       "    <tr>\n",
       "      <th>1991-12-31</th>\n",
       "      <td>0</td>\n",
       "      <td>0</td>\n",
       "      <td>0</td>\n",
       "      <td>0</td>\n",
       "      <td>0</td>\n",
       "      <td>0</td>\n",
       "      <td>0</td>\n",
       "      <td>0</td>\n",
       "      <td>0</td>\n",
       "      <td>0</td>\n",
       "      <td>0</td>\n",
       "      <td>0</td>\n",
       "      <td>0</td>\n",
       "      <td>0</td>\n",
       "    </tr>\n",
       "    <tr>\n",
       "      <th>1992-12-31</th>\n",
       "      <td>0</td>\n",
       "      <td>0</td>\n",
       "      <td>0</td>\n",
       "      <td>0</td>\n",
       "      <td>0</td>\n",
       "      <td>0</td>\n",
       "      <td>0</td>\n",
       "      <td>0</td>\n",
       "      <td>0</td>\n",
       "      <td>0</td>\n",
       "      <td>0</td>\n",
       "      <td>0</td>\n",
       "      <td>0</td>\n",
       "      <td>0</td>\n",
       "    </tr>\n",
       "    <tr>\n",
       "      <th>1993-12-31</th>\n",
       "      <td>0</td>\n",
       "      <td>0</td>\n",
       "      <td>0</td>\n",
       "      <td>0</td>\n",
       "      <td>0</td>\n",
       "      <td>0</td>\n",
       "      <td>0</td>\n",
       "      <td>0</td>\n",
       "      <td>0</td>\n",
       "      <td>0</td>\n",
       "      <td>0</td>\n",
       "      <td>0</td>\n",
       "      <td>0</td>\n",
       "      <td>0</td>\n",
       "    </tr>\n",
       "    <tr>\n",
       "      <th>1994-12-31</th>\n",
       "      <td>0</td>\n",
       "      <td>0</td>\n",
       "      <td>0</td>\n",
       "      <td>0</td>\n",
       "      <td>0</td>\n",
       "      <td>0</td>\n",
       "      <td>0</td>\n",
       "      <td>0</td>\n",
       "      <td>0</td>\n",
       "      <td>0</td>\n",
       "      <td>0</td>\n",
       "      <td>0</td>\n",
       "      <td>0</td>\n",
       "      <td>0</td>\n",
       "    </tr>\n",
       "    <tr>\n",
       "      <th>1995-12-31</th>\n",
       "      <td>0</td>\n",
       "      <td>0</td>\n",
       "      <td>0</td>\n",
       "      <td>0</td>\n",
       "      <td>0</td>\n",
       "      <td>0</td>\n",
       "      <td>0</td>\n",
       "      <td>0</td>\n",
       "      <td>0</td>\n",
       "      <td>0</td>\n",
       "      <td>0</td>\n",
       "      <td>0</td>\n",
       "      <td>0</td>\n",
       "      <td>0</td>\n",
       "    </tr>\n",
       "    <tr>\n",
       "      <th>1996-12-31</th>\n",
       "      <td>42</td>\n",
       "      <td>42</td>\n",
       "      <td>42</td>\n",
       "      <td>42</td>\n",
       "      <td>42</td>\n",
       "      <td>42</td>\n",
       "      <td>42</td>\n",
       "      <td>42</td>\n",
       "      <td>42</td>\n",
       "      <td>42</td>\n",
       "      <td>42</td>\n",
       "      <td>42</td>\n",
       "      <td>42</td>\n",
       "      <td>42</td>\n",
       "    </tr>\n",
       "    <tr>\n",
       "      <th>1997-12-31</th>\n",
       "      <td>72</td>\n",
       "      <td>72</td>\n",
       "      <td>72</td>\n",
       "      <td>72</td>\n",
       "      <td>72</td>\n",
       "      <td>72</td>\n",
       "      <td>72</td>\n",
       "      <td>72</td>\n",
       "      <td>72</td>\n",
       "      <td>72</td>\n",
       "      <td>72</td>\n",
       "      <td>72</td>\n",
       "      <td>72</td>\n",
       "      <td>72</td>\n",
       "    </tr>\n",
       "    <tr>\n",
       "      <th>1998-12-31</th>\n",
       "      <td>77</td>\n",
       "      <td>77</td>\n",
       "      <td>77</td>\n",
       "      <td>77</td>\n",
       "      <td>77</td>\n",
       "      <td>77</td>\n",
       "      <td>77</td>\n",
       "      <td>77</td>\n",
       "      <td>77</td>\n",
       "      <td>77</td>\n",
       "      <td>77</td>\n",
       "      <td>77</td>\n",
       "      <td>77</td>\n",
       "      <td>77</td>\n",
       "    </tr>\n",
       "    <tr>\n",
       "      <th>1999-12-31</th>\n",
       "      <td>66</td>\n",
       "      <td>66</td>\n",
       "      <td>66</td>\n",
       "      <td>66</td>\n",
       "      <td>66</td>\n",
       "      <td>66</td>\n",
       "      <td>66</td>\n",
       "      <td>66</td>\n",
       "      <td>66</td>\n",
       "      <td>66</td>\n",
       "      <td>66</td>\n",
       "      <td>66</td>\n",
       "      <td>66</td>\n",
       "      <td>66</td>\n",
       "    </tr>\n",
       "    <tr>\n",
       "      <th>2000-12-31</th>\n",
       "      <td>93</td>\n",
       "      <td>93</td>\n",
       "      <td>93</td>\n",
       "      <td>93</td>\n",
       "      <td>93</td>\n",
       "      <td>93</td>\n",
       "      <td>93</td>\n",
       "      <td>93</td>\n",
       "      <td>93</td>\n",
       "      <td>93</td>\n",
       "      <td>93</td>\n",
       "      <td>93</td>\n",
       "      <td>93</td>\n",
       "      <td>93</td>\n",
       "    </tr>\n",
       "    <tr>\n",
       "      <th>2001-12-31</th>\n",
       "      <td>231</td>\n",
       "      <td>231</td>\n",
       "      <td>231</td>\n",
       "      <td>231</td>\n",
       "      <td>231</td>\n",
       "      <td>231</td>\n",
       "      <td>231</td>\n",
       "      <td>231</td>\n",
       "      <td>231</td>\n",
       "      <td>231</td>\n",
       "      <td>231</td>\n",
       "      <td>231</td>\n",
       "      <td>231</td>\n",
       "      <td>231</td>\n",
       "    </tr>\n",
       "    <tr>\n",
       "      <th>2002-12-31</th>\n",
       "      <td>3287</td>\n",
       "      <td>3287</td>\n",
       "      <td>3287</td>\n",
       "      <td>3287</td>\n",
       "      <td>3287</td>\n",
       "      <td>3287</td>\n",
       "      <td>3287</td>\n",
       "      <td>3287</td>\n",
       "      <td>3287</td>\n",
       "      <td>3287</td>\n",
       "      <td>3287</td>\n",
       "      <td>3287</td>\n",
       "      <td>3287</td>\n",
       "      <td>3287</td>\n",
       "    </tr>\n",
       "    <tr>\n",
       "      <th>2003-12-31</th>\n",
       "      <td>10835</td>\n",
       "      <td>10835</td>\n",
       "      <td>10835</td>\n",
       "      <td>10835</td>\n",
       "      <td>10835</td>\n",
       "      <td>10835</td>\n",
       "      <td>10835</td>\n",
       "      <td>10835</td>\n",
       "      <td>10835</td>\n",
       "      <td>10835</td>\n",
       "      <td>10835</td>\n",
       "      <td>10835</td>\n",
       "      <td>10835</td>\n",
       "      <td>10835</td>\n",
       "    </tr>\n",
       "    <tr>\n",
       "      <th>2004-12-31</th>\n",
       "      <td>10338</td>\n",
       "      <td>10338</td>\n",
       "      <td>10338</td>\n",
       "      <td>10338</td>\n",
       "      <td>10338</td>\n",
       "      <td>10338</td>\n",
       "      <td>10338</td>\n",
       "      <td>10338</td>\n",
       "      <td>10338</td>\n",
       "      <td>10338</td>\n",
       "      <td>10338</td>\n",
       "      <td>10338</td>\n",
       "      <td>10338</td>\n",
       "      <td>10338</td>\n",
       "    </tr>\n",
       "    <tr>\n",
       "      <th>2005-12-31</th>\n",
       "      <td>10989</td>\n",
       "      <td>10989</td>\n",
       "      <td>10989</td>\n",
       "      <td>10989</td>\n",
       "      <td>10989</td>\n",
       "      <td>10989</td>\n",
       "      <td>10989</td>\n",
       "      <td>10989</td>\n",
       "      <td>10989</td>\n",
       "      <td>10989</td>\n",
       "      <td>10989</td>\n",
       "      <td>10989</td>\n",
       "      <td>10989</td>\n",
       "      <td>10989</td>\n",
       "    </tr>\n",
       "    <tr>\n",
       "      <th>2006-12-31</th>\n",
       "      <td>10031</td>\n",
       "      <td>10031</td>\n",
       "      <td>10031</td>\n",
       "      <td>10031</td>\n",
       "      <td>10031</td>\n",
       "      <td>10031</td>\n",
       "      <td>10031</td>\n",
       "      <td>10031</td>\n",
       "      <td>10031</td>\n",
       "      <td>10031</td>\n",
       "      <td>10031</td>\n",
       "      <td>10031</td>\n",
       "      <td>10031</td>\n",
       "      <td>10031</td>\n",
       "    </tr>\n",
       "    <tr>\n",
       "      <th>2007-12-31</th>\n",
       "      <td>10801</td>\n",
       "      <td>10801</td>\n",
       "      <td>10801</td>\n",
       "      <td>10801</td>\n",
       "      <td>10801</td>\n",
       "      <td>10801</td>\n",
       "      <td>10801</td>\n",
       "      <td>10801</td>\n",
       "      <td>10801</td>\n",
       "      <td>10801</td>\n",
       "      <td>10801</td>\n",
       "      <td>10801</td>\n",
       "      <td>10801</td>\n",
       "      <td>10801</td>\n",
       "    </tr>\n",
       "    <tr>\n",
       "      <th>2008-12-31</th>\n",
       "      <td>6789</td>\n",
       "      <td>6789</td>\n",
       "      <td>6789</td>\n",
       "      <td>6789</td>\n",
       "      <td>6789</td>\n",
       "      <td>6789</td>\n",
       "      <td>6789</td>\n",
       "      <td>6789</td>\n",
       "      <td>6789</td>\n",
       "      <td>6789</td>\n",
       "      <td>6789</td>\n",
       "      <td>6789</td>\n",
       "      <td>6789</td>\n",
       "      <td>6789</td>\n",
       "    </tr>\n",
       "    <tr>\n",
       "      <th>2009-12-31</th>\n",
       "      <td>10262</td>\n",
       "      <td>10262</td>\n",
       "      <td>10262</td>\n",
       "      <td>10262</td>\n",
       "      <td>10262</td>\n",
       "      <td>10262</td>\n",
       "      <td>10262</td>\n",
       "      <td>10262</td>\n",
       "      <td>10262</td>\n",
       "      <td>10262</td>\n",
       "      <td>10262</td>\n",
       "      <td>10262</td>\n",
       "      <td>10262</td>\n",
       "      <td>10262</td>\n",
       "    </tr>\n",
       "    <tr>\n",
       "      <th>2010-12-31</th>\n",
       "      <td>9379</td>\n",
       "      <td>9379</td>\n",
       "      <td>9379</td>\n",
       "      <td>9379</td>\n",
       "      <td>9379</td>\n",
       "      <td>9379</td>\n",
       "      <td>9379</td>\n",
       "      <td>9379</td>\n",
       "      <td>9379</td>\n",
       "      <td>9379</td>\n",
       "      <td>9379</td>\n",
       "      <td>9379</td>\n",
       "      <td>9379</td>\n",
       "      <td>9379</td>\n",
       "    </tr>\n",
       "    <tr>\n",
       "      <th>2011-12-31</th>\n",
       "      <td>9357</td>\n",
       "      <td>9357</td>\n",
       "      <td>9357</td>\n",
       "      <td>9357</td>\n",
       "      <td>9357</td>\n",
       "      <td>9357</td>\n",
       "      <td>9357</td>\n",
       "      <td>9357</td>\n",
       "      <td>9357</td>\n",
       "      <td>9357</td>\n",
       "      <td>9357</td>\n",
       "      <td>9357</td>\n",
       "      <td>9357</td>\n",
       "      <td>9357</td>\n",
       "    </tr>\n",
       "    <tr>\n",
       "      <th>2012-12-31</th>\n",
       "      <td>9867</td>\n",
       "      <td>9867</td>\n",
       "      <td>9867</td>\n",
       "      <td>9867</td>\n",
       "      <td>9867</td>\n",
       "      <td>9867</td>\n",
       "      <td>9867</td>\n",
       "      <td>9867</td>\n",
       "      <td>9867</td>\n",
       "      <td>9867</td>\n",
       "      <td>9867</td>\n",
       "      <td>9867</td>\n",
       "      <td>9867</td>\n",
       "      <td>9867</td>\n",
       "    </tr>\n",
       "    <tr>\n",
       "      <th>2013-12-31</th>\n",
       "      <td>10182</td>\n",
       "      <td>10182</td>\n",
       "      <td>10182</td>\n",
       "      <td>10182</td>\n",
       "      <td>10182</td>\n",
       "      <td>10182</td>\n",
       "      <td>10182</td>\n",
       "      <td>10182</td>\n",
       "      <td>10182</td>\n",
       "      <td>10182</td>\n",
       "      <td>10182</td>\n",
       "      <td>10182</td>\n",
       "      <td>10182</td>\n",
       "      <td>10182</td>\n",
       "    </tr>\n",
       "    <tr>\n",
       "      <th>2014-12-31</th>\n",
       "      <td>9243</td>\n",
       "      <td>9243</td>\n",
       "      <td>9243</td>\n",
       "      <td>9243</td>\n",
       "      <td>9243</td>\n",
       "      <td>9243</td>\n",
       "      <td>9243</td>\n",
       "      <td>9242</td>\n",
       "      <td>9243</td>\n",
       "      <td>9243</td>\n",
       "      <td>9243</td>\n",
       "      <td>9243</td>\n",
       "      <td>9243</td>\n",
       "      <td>9243</td>\n",
       "    </tr>\n",
       "    <tr>\n",
       "      <th>2015-12-31</th>\n",
       "      <td>8858</td>\n",
       "      <td>8858</td>\n",
       "      <td>8858</td>\n",
       "      <td>8858</td>\n",
       "      <td>8858</td>\n",
       "      <td>8858</td>\n",
       "      <td>8858</td>\n",
       "      <td>8858</td>\n",
       "      <td>8858</td>\n",
       "      <td>8858</td>\n",
       "      <td>8858</td>\n",
       "      <td>8858</td>\n",
       "      <td>8858</td>\n",
       "      <td>8858</td>\n",
       "    </tr>\n",
       "    <tr>\n",
       "      <th>2016-12-31</th>\n",
       "      <td>7849</td>\n",
       "      <td>7849</td>\n",
       "      <td>7849</td>\n",
       "      <td>7849</td>\n",
       "      <td>7849</td>\n",
       "      <td>7849</td>\n",
       "      <td>7849</td>\n",
       "      <td>7848</td>\n",
       "      <td>7849</td>\n",
       "      <td>7849</td>\n",
       "      <td>7849</td>\n",
       "      <td>7849</td>\n",
       "      <td>7849</td>\n",
       "      <td>7849</td>\n",
       "    </tr>\n",
       "    <tr>\n",
       "      <th>2017-12-31</th>\n",
       "      <td>8255</td>\n",
       "      <td>8255</td>\n",
       "      <td>8255</td>\n",
       "      <td>8255</td>\n",
       "      <td>8255</td>\n",
       "      <td>8255</td>\n",
       "      <td>8255</td>\n",
       "      <td>8255</td>\n",
       "      <td>8255</td>\n",
       "      <td>8255</td>\n",
       "      <td>8255</td>\n",
       "      <td>8255</td>\n",
       "      <td>8255</td>\n",
       "      <td>8255</td>\n",
       "    </tr>\n",
       "    <tr>\n",
       "      <th>2018-12-31</th>\n",
       "      <td>8078</td>\n",
       "      <td>8078</td>\n",
       "      <td>8078</td>\n",
       "      <td>8078</td>\n",
       "      <td>8078</td>\n",
       "      <td>8078</td>\n",
       "      <td>8078</td>\n",
       "      <td>8077</td>\n",
       "      <td>8078</td>\n",
       "      <td>8078</td>\n",
       "      <td>8078</td>\n",
       "      <td>8078</td>\n",
       "      <td>8078</td>\n",
       "      <td>8078</td>\n",
       "    </tr>\n",
       "  </tbody>\n",
       "</table>\n",
       "<p>118 rows × 14 columns</p>\n",
       "</div>"
      ],
      "text/plain": [
       "            ACCOUNT_ID  ACTIVE  ACTIVITIES  ADDRESS   CITY  CODES  CONTINUOUS  \\\n",
       "END                                                                             \n",
       "1901-12-31           2       2           2        2      2      2           2   \n",
       "1902-12-31           0       0           0        0      0      0           0   \n",
       "1903-12-31           0       0           0        0      0      0           0   \n",
       "1904-12-31           0       0           0        0      0      0           0   \n",
       "1905-12-31           0       0           0        0      0      0           0   \n",
       "1906-12-31           0       0           0        0      0      0           0   \n",
       "1907-12-31           0       0           0        0      0      0           0   \n",
       "1908-12-31           0       0           0        0      0      0           0   \n",
       "1909-12-31           0       0           0        0      0      0           0   \n",
       "1910-12-31           0       0           0        0      0      0           0   \n",
       "1911-12-31           0       0           0        0      0      0           0   \n",
       "1912-12-31           0       0           0        0      0      0           0   \n",
       "1913-12-31           0       0           0        0      0      0           0   \n",
       "1914-12-31           0       0           0        0      0      0           0   \n",
       "1915-12-31           0       0           0        0      0      0           0   \n",
       "1916-12-31           0       0           0        0      0      0           0   \n",
       "1917-12-31           0       0           0        0      0      0           0   \n",
       "1918-12-31           0       0           0        0      0      0           0   \n",
       "1919-12-31           0       0           0        0      0      0           0   \n",
       "1920-12-31           0       0           0        0      0      0           0   \n",
       "1921-12-31           0       0           0        0      0      0           0   \n",
       "1922-12-31           0       0           0        0      0      0           0   \n",
       "1923-12-31           0       0           0        0      0      0           0   \n",
       "1924-12-31           0       0           0        0      0      0           0   \n",
       "1925-12-31           0       0           0        0      0      0           0   \n",
       "1926-12-31           0       0           0        0      0      0           0   \n",
       "1927-12-31           0       0           0        0      0      0           0   \n",
       "1928-12-31           0       0           0        0      0      0           0   \n",
       "1929-12-31           0       0           0        0      0      0           0   \n",
       "1930-12-31           0       0           0        0      0      0           0   \n",
       "...                ...     ...         ...      ...    ...    ...         ...   \n",
       "1989-12-31           0       0           0        0      0      0           0   \n",
       "1990-12-31           0       0           0        0      0      0           0   \n",
       "1991-12-31           0       0           0        0      0      0           0   \n",
       "1992-12-31           0       0           0        0      0      0           0   \n",
       "1993-12-31           0       0           0        0      0      0           0   \n",
       "1994-12-31           0       0           0        0      0      0           0   \n",
       "1995-12-31           0       0           0        0      0      0           0   \n",
       "1996-12-31          42      42          42       42     42     42          42   \n",
       "1997-12-31          72      72          72       72     72     72          72   \n",
       "1998-12-31          77      77          77       77     77     77          77   \n",
       "1999-12-31          66      66          66       66     66     66          66   \n",
       "2000-12-31          93      93          93       93     93     93          93   \n",
       "2001-12-31         231     231         231      231    231    231         231   \n",
       "2002-12-31        3287    3287        3287     3287   3287   3287        3287   \n",
       "2003-12-31       10835   10835       10835    10835  10835  10835       10835   \n",
       "2004-12-31       10338   10338       10338    10338  10338  10338       10338   \n",
       "2005-12-31       10989   10989       10989    10989  10989  10989       10989   \n",
       "2006-12-31       10031   10031       10031    10031  10031  10031       10031   \n",
       "2007-12-31       10801   10801       10801    10801  10801  10801       10801   \n",
       "2008-12-31        6789    6789        6789     6789   6789   6789        6789   \n",
       "2009-12-31       10262   10262       10262    10262  10262  10262       10262   \n",
       "2010-12-31        9379    9379        9379     9379   9379   9379        9379   \n",
       "2011-12-31        9357    9357        9357     9357   9357   9357        9357   \n",
       "2012-12-31        9867    9867        9867     9867   9867   9867        9867   \n",
       "2013-12-31       10182   10182       10182    10182  10182  10182       10182   \n",
       "2014-12-31        9243    9243        9243     9243   9243   9243        9243   \n",
       "2015-12-31        8858    8858        8858     8858   8858   8858        8858   \n",
       "2016-12-31        7849    7849        7849     7849   7849   7849        7849   \n",
       "2017-12-31        8255    8255        8255     8255   8255   8255        8255   \n",
       "2018-12-31        8078    8078        8078     8078   8078   8078        8078   \n",
       "\n",
       "              DBA  LIFESPAN  NUM_LICENSES  ORIGINAL  SITE_ID  START  ZIP CODE  \n",
       "END                                                                            \n",
       "1901-12-31      2         2             2         2        2      2         2  \n",
       "1902-12-31      0         0             0         0        0      0         0  \n",
       "1903-12-31      0         0             0         0        0      0         0  \n",
       "1904-12-31      0         0             0         0        0      0         0  \n",
       "1905-12-31      0         0             0         0        0      0         0  \n",
       "1906-12-31      0         0             0         0        0      0         0  \n",
       "1907-12-31      0         0             0         0        0      0         0  \n",
       "1908-12-31      0         0             0         0        0      0         0  \n",
       "1909-12-31      0         0             0         0        0      0         0  \n",
       "1910-12-31      0         0             0         0        0      0         0  \n",
       "1911-12-31      0         0             0         0        0      0         0  \n",
       "1912-12-31      0         0             0         0        0      0         0  \n",
       "1913-12-31      0         0             0         0        0      0         0  \n",
       "1914-12-31      0         0             0         0        0      0         0  \n",
       "1915-12-31      0         0             0         0        0      0         0  \n",
       "1916-12-31      0         0             0         0        0      0         0  \n",
       "1917-12-31      0         0             0         0        0      0         0  \n",
       "1918-12-31      0         0             0         0        0      0         0  \n",
       "1919-12-31      0         0             0         0        0      0         0  \n",
       "1920-12-31      0         0             0         0        0      0         0  \n",
       "1921-12-31      0         0             0         0        0      0         0  \n",
       "1922-12-31      0         0             0         0        0      0         0  \n",
       "1923-12-31      0         0             0         0        0      0         0  \n",
       "1924-12-31      0         0             0         0        0      0         0  \n",
       "1925-12-31      0         0             0         0        0      0         0  \n",
       "1926-12-31      0         0             0         0        0      0         0  \n",
       "1927-12-31      0         0             0         0        0      0         0  \n",
       "1928-12-31      0         0             0         0        0      0         0  \n",
       "1929-12-31      0         0             0         0        0      0         0  \n",
       "1930-12-31      0         0             0         0        0      0         0  \n",
       "...           ...       ...           ...       ...      ...    ...       ...  \n",
       "1989-12-31      0         0             0         0        0      0         0  \n",
       "1990-12-31      0         0             0         0        0      0         0  \n",
       "1991-12-31      0         0             0         0        0      0         0  \n",
       "1992-12-31      0         0             0         0        0      0         0  \n",
       "1993-12-31      0         0             0         0        0      0         0  \n",
       "1994-12-31      0         0             0         0        0      0         0  \n",
       "1995-12-31      0         0             0         0        0      0         0  \n",
       "1996-12-31     42        42            42        42       42     42        42  \n",
       "1997-12-31     72        72            72        72       72     72        72  \n",
       "1998-12-31     77        77            77        77       77     77        77  \n",
       "1999-12-31     66        66            66        66       66     66        66  \n",
       "2000-12-31     93        93            93        93       93     93        93  \n",
       "2001-12-31    231       231           231       231      231    231       231  \n",
       "2002-12-31   3287      3287          3287      3287     3287   3287      3287  \n",
       "2003-12-31  10835     10835         10835     10835    10835  10835     10835  \n",
       "2004-12-31  10338     10338         10338     10338    10338  10338     10338  \n",
       "2005-12-31  10989     10989         10989     10989    10989  10989     10989  \n",
       "2006-12-31  10031     10031         10031     10031    10031  10031     10031  \n",
       "2007-12-31  10801     10801         10801     10801    10801  10801     10801  \n",
       "2008-12-31   6789      6789          6789      6789     6789   6789      6789  \n",
       "2009-12-31  10262     10262         10262     10262    10262  10262     10262  \n",
       "2010-12-31   9379      9379          9379      9379     9379   9379      9379  \n",
       "2011-12-31   9357      9357          9357      9357     9357   9357      9357  \n",
       "2012-12-31   9867      9867          9867      9867     9867   9867      9867  \n",
       "2013-12-31  10182     10182         10182     10182    10182  10182     10182  \n",
       "2014-12-31   9242      9243          9243      9243     9243   9243      9243  \n",
       "2015-12-31   8858      8858          8858      8858     8858   8858      8858  \n",
       "2016-12-31   7848      7849          7849      7849     7849   7849      7849  \n",
       "2017-12-31   8255      8255          8255      8255     8255   8255      8255  \n",
       "2018-12-31   8077      8078          8078      8078     8078   8078      8078  \n",
       "\n",
       "[118 rows x 14 columns]"
      ]
     },
     "execution_count": 148,
     "metadata": {},
     "output_type": "execute_result"
    }
   ],
   "source": [
    "ygroup_defunct = pd.Grouper(key='END', freq='1Y', label='right')\n",
    "defunct.groupby(ygroup_defunct).count()"
   ]
  },
  {
   "cell_type": "code",
   "execution_count": null,
   "metadata": {
    "scrolled": true
   },
   "outputs": [],
   "source": []
  },
  {
   "cell_type": "code",
   "execution_count": 123,
   "metadata": {
    "scrolled": true
   },
   "outputs": [],
   "source": [
    "x = new_locations.START.apply(lambda x: x.year < 2002)"
   ]
  },
  {
   "cell_type": "code",
   "execution_count": null,
   "metadata": {
    "scrolled": true
   },
   "outputs": [],
   "source": []
  },
  {
   "cell_type": "code",
   "execution_count": 125,
   "metadata": {
    "scrolled": true
   },
   "outputs": [
    {
     "data": {
      "text/plain": [
       "155503"
      ]
     },
     "execution_count": 125,
     "metadata": {},
     "output_type": "execute_result"
    }
   ],
   "source": [
    "len(new_locations)"
   ]
  },
  {
   "cell_type": "code",
   "execution_count": 57,
   "metadata": {
    "scrolled": true
   },
   "outputs": [],
   "source": []
  },
  {
   "cell_type": "code",
   "execution_count": null,
   "metadata": {
    "scrolled": true
   },
   "outputs": [],
   "source": []
  },
  {
   "cell_type": "code",
   "execution_count": 76,
   "metadata": {
    "scrolled": true
   },
   "outputs": [],
   "source": []
  },
  {
   "cell_type": "code",
   "execution_count": null,
   "metadata": {
    "scrolled": true
   },
   "outputs": [],
   "source": []
  },
  {
   "cell_type": "code",
   "execution_count": 60,
   "metadata": {
    "scrolled": true
   },
   "outputs": [],
   "source": []
  },
  {
   "cell_type": "code",
   "execution_count": null,
   "metadata": {
    "scrolled": true
   },
   "outputs": [],
   "source": []
  },
  {
   "cell_type": "code",
   "execution_count": null,
   "metadata": {
    "scrolled": true
   },
   "outputs": [],
   "source": []
  },
  {
   "cell_type": "code",
   "execution_count": null,
   "metadata": {
    "scrolled": true
   },
   "outputs": [],
   "source": []
  },
  {
   "cell_type": "code",
   "execution_count": null,
   "metadata": {
    "scrolled": true
   },
   "outputs": [],
   "source": []
  },
  {
   "cell_type": "code",
   "execution_count": null,
   "metadata": {
    "scrolled": true
   },
   "outputs": [],
   "source": []
  },
  {
   "cell_type": "code",
   "execution_count": null,
   "metadata": {
    "scrolled": true
   },
   "outputs": [],
   "source": []
  },
  {
   "cell_type": "code",
   "execution_count": null,
   "metadata": {
    "scrolled": true
   },
   "outputs": [],
   "source": []
  },
  {
   "cell_type": "code",
   "execution_count": null,
   "metadata": {
    "scrolled": true
   },
   "outputs": [],
   "source": []
  },
  {
   "cell_type": "code",
   "execution_count": null,
   "metadata": {
    "scrolled": true
   },
   "outputs": [],
   "source": []
  },
  {
   "cell_type": "code",
   "execution_count": null,
   "metadata": {
    "scrolled": true
   },
   "outputs": [],
   "source": [
    "from modules.tables import datframe_to_png\n",
    "\n",
    "# save table of most common license codes\n",
    "license_codes = licenses.groupby('LICENSE CODE')['LICENSE DESCRIPTION'].agg(['count', 'first']).sort_values('count', ascending=False)\n",
    "top10_license_codes = license_codes.iloc[:10]\n",
    "top10_license_codes.rename({'count': 'NUM. LICENSES', 'first': 'LICENSE TYPE'}, axis=1, inplace=True)\n",
    "top10_license_codes.reset_index(inplace=True)\n",
    "top10_license_codes.index = range(1, len(top10_license_codes)+1)\n",
    "datframe_to_png(top10_license_codes, filename='top10', outputdir='../tables')"
   ]
  },
  {
   "cell_type": "markdown",
   "metadata": {},
   "source": [
    "<img src=\"../tables/top10.png\" >"
   ]
  },
  {
   "cell_type": "markdown",
   "metadata": {},
   "source": [
    "# Preprocessing"
   ]
  },
  {
   "cell_type": "code",
   "execution_count": 59,
   "metadata": {
    "scrolled": true
   },
   "outputs": [
    {
     "name": "stderr",
     "output_type": "stream",
     "text": [
      "/Users/Sebi/.virtualenvs/incubator/lib/python3.6/site-packages/scipy/signal/_savitzky_golay.py:135: RuntimeWarning: internal gelsd driver lwork query error, required iwork dimension not returned. This is likely the result of LAPACK bug 0038, fixed in LAPACK 3.2.2 (released July 21, 2010). Falling back to 'gelss' driver.\n",
      "  coeffs, _, _, _ = lstsq(A, y)\n",
      "/Users/Sebi/.virtualenvs/incubator/lib/python3.6/site-packages/scipy/signal/_arraytools.py:45: FutureWarning: Using a non-tuple sequence for multidimensional indexing is deprecated; use `arr[tuple(seq)]` instead of `arr[seq]`. In the future this will be interpreted as an array index, `arr[np.array(seq)]`, which will result either in an error or a different result.\n",
      "  b = a[a_slice]\n"
     ]
    }
   ],
   "source": [
    "# identify newly issued licenses\n",
    "new = licenses[np.logical_and(licenses['APPLICATION TYPE']=='ISSUE', licenses['LICENSE STATUS'] == 'AAI')]\n",
    "renewed = licenses[np.logical_and(licenses['APPLICATION TYPE']=='RENEW', licenses['LICENSE STATUS'] == 'AAI')]\n",
    "cancelled = licenses[licenses['LICENSE STATUS'].isin(['AAC', 'REV'])]\n",
    "\n",
    "# compute number of additions/renewals per zip code\n",
    "criteria = ['DATE ISSUED', 'ZIP CODE', 'LICENSE CODE']\n",
    "num_additions = new.groupby(criteria).size().groupby(level=[0, 1]).sum().unstack(level=1).resample('1M', axis=0).sum()\n",
    "num_renewals = renewed.groupby(criteria).size().groupby(level=[0, 1]).sum().unstack(level=1).resample('1M', axis=0).sum()\n",
    "turnover = cancelled.groupby(criteria).size().groupby(level=[0, 1]).sum().unstack(level=1).resample('1M', axis=0).sum()\n",
    "\n",
    "# compute annual additions/renewals per zip code\n",
    "annual_additions = num_additions.resample('1Y', axis=0).sum()\n",
    "annual_renewals = num_renewals.resample('1Y', axis=0).sum()\n",
    "annual_turnover = turnover.resample('1Y', axis=0).sum()\n",
    "\n",
    "# impute 2011/2012 due to licensing reform\n",
    "annual_additions = annual_additions.drop(annual_renewals.loc['2011'].index)\n",
    "annual_additions = annual_additions.drop(annual_renewals.loc['2012'].index)\n",
    "annual_additions = annual_additions.resample('1Y', axis=0).interpolate()\n",
    "annual_renewals = annual_renewals.drop(annual_renewals.loc['2011'].index)\n",
    "annual_renewals = annual_renewals.drop(annual_renewals.loc['2012'].index)\n",
    "annual_renewals = annual_renewals.resample('1Y', axis=0).interpolate()\n",
    "annual_turnover = annual_turnover.drop(annual_turnover.loc['2011'].index)\n",
    "annual_turnover = annual_turnover.drop(annual_turnover.loc['2012'].index)\n",
    "annual_turnover = annual_turnover.resample('1Y', axis=0).interpolate()\n",
    "\n",
    "# smooth renewals (some are bi-annual)\n",
    "annual_renewals = annual_renewals.apply(savgol_filter, args=(3, 1))"
   ]
  },
  {
   "cell_type": "markdown",
   "metadata": {},
   "source": [
    "# Plot license addition/renewal/turnover timeseries"
   ]
  },
  {
   "cell_type": "markdown",
   "metadata": {},
   "source": [
    "These are the rates of license additions, renewal, and turnover for each zipcode over the past two decades."
   ]
  },
  {
   "cell_type": "code",
   "execution_count": 61,
   "metadata": {
    "scrolled": true
   },
   "outputs": [
    {
     "data": {
      "text/plain": [
       "<matplotlib.legend.Legend at 0x13ea2f6a0>"
      ]
     },
     "execution_count": 61,
     "metadata": {},
     "output_type": "execute_result"
    },
    {
     "data": {
      "image/png": "[encoded data removed]",
      "text/plain": [
       "<Figure size 432x288 with 1 Axes>"
      ]
     },
     "metadata": {
      "needs_background": "light"
     },
     "output_type": "display_data"
    },
    {
     "data": {
      "image/png": "[encoded data removed]",
      "text/plain": [
       "<Figure size 432x288 with 1 Axes>"
      ]
     },
     "metadata": {
      "needs_background": "light"
     },
     "output_type": "display_data"
    },
    {
     "data": {
      "image/png": "[encoded data removed]",
      "text/plain": [
       "<Figure size 432x288 with 1 Axes>"
      ]
     },
     "metadata": {
      "needs_background": "light"
     },
     "output_type": "display_data"
    },
    {
     "data": {
      "image/png": "[encoded data removed]",
      "text/plain": [
       "<Figure size 432x288 with 1 Axes>"
      ]
     },
     "metadata": {
      "needs_background": "light"
     },
     "output_type": "display_data"
    }
   ],
   "source": [
    "# compute annual additions/renewals per zip code\n",
    "freq = '2Y'\n",
    "addition_ts = annual_additions.resample(freq, axis=0).sum()\n",
    "renewal_ts = annual_renewals.resample(freq, axis=0).sum()\n",
    "turnover_ts = annual_turnover.resample(freq, axis=0).sum()\n",
    "\n",
    "# plot license renewals\n",
    "ax = plot_timeseries(renewal_ts)\n",
    "ax.set_ylabel('Business License Renewals')\n",
    "renewal_ts.loc[:, 60622].plot(ax=ax, lw=3, color='r')\n",
    "\n",
    "# plot license additions\n",
    "ax = plot_timeseries(addition_ts)\n",
    "ax.set_ylabel('Business License Additions')\n",
    "#addition_ts.loc[:, 60622].plot(ax=ax, lw=3, color='r')\n",
    "fig = plt.gcf()\n",
    "fig.savefig('additions.png')\n",
    "\n",
    "# plot license turnover\n",
    "ax = plot_timeseries(turnover_ts)\n",
    "ax.set_ylabel('Business License Turnover')\n",
    "turnover_ts.loc[:, 60622].plot(ax=ax, lw=3, color='r')\n",
    "\n",
    "# plot license growth rate\n",
    "net_change = (addition_ts-turnover_ts)\n",
    "ax = plot_timeseries(net_change)\n",
    "ax.set_ylabel('Net Change in Num. Licenses \\n (New Licenses - Turnover)')\n",
    "ax.set_xlabel('Year')\n",
    "net_change.loc[:, 60622].plot(ax=ax, lw=3, color='r', label='60622')\n",
    "ax.legend(handles=[red_line])"
   ]
  },
  {
   "cell_type": "markdown",
   "metadata": {},
   "source": [
    "# Simple correlation between property values and licensing rates"
   ]
  },
  {
   "cell_type": "markdown",
   "metadata": {},
   "source": [
    "There is a weak correlation between the annual net change in business licenses and the relative property value."
   ]
  },
  {
   "cell_type": "code",
   "execution_count": 86,
   "metadata": {
    "scrolled": true
   },
   "outputs": [],
   "source": [
    "# normalize and detrend realestate value data\n",
    "detrended_mvalfah = detrend(normalize_by_baseline(mvalfah, baseline_length=1))"
   ]
  },
  {
   "cell_type": "code",
   "execution_count": 87,
   "metadata": {
    "scrolled": true
   },
   "outputs": [
    {
     "data": {
      "text/plain": [
       "(0.43210541048175194, 2.415617873086622e-24)"
      ]
     },
     "execution_count": 87,
     "metadata": {},
     "output_type": "execute_result"
    }
   ],
   "source": [
    "X = net_change\n",
    "Y = detrended_mvalfah.resample('1Y').mean().loc[X.index, :]\n",
    "pearsonr(X.values.flatten(), Y.values.flatten())"
   ]
  },
  {
   "cell_type": "code",
   "execution_count": null,
   "metadata": {
    "scrolled": true
   },
   "outputs": [],
   "source": []
  }
 ],
 "metadata": {
  "kernelspec": {
   "display_name": "incubator",
   "language": "python",
   "name": "incubator"
  },
  "language_info": {
   "codemirror_mode": {
    "name": "ipython",
    "version": 3
   },
   "file_extension": ".py",
   "mimetype": "text/x-python",
   "name": "python",
   "nbconvert_exporter": "python",
   "pygments_lexer": "ipython3",
   "version": "3.6.4"
  }
 },
 "nbformat": 4,
 "nbformat_minor": 2
}
