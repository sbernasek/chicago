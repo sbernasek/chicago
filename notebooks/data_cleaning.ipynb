{
 "cells": [
  {
   "cell_type": "code",
   "execution_count": 1,
   "metadata": {
    "scrolled": true
   },
   "outputs": [],
   "source": [
    "import sys, os\n",
    "if '../' not in sys.path:\n",
    "    sys.path.insert(0, '../')\n",
    "\n",
    "import pandas as pd\n",
    "import matplotlib.pyplot as plt\n",
    "import numpy as np\n",
    "from scipy.stats import pearsonr\n",
    "\n",
    "from modules.licensing import LicensingData, License\n",
    "from modules.realestate import RealEstateData\n",
    "from modules.dynamics import *\n",
    "from modules.io import read_json, write_json\n",
    "from modules.locations import Location\n",
    "\n",
    "%reload_ext autoreload\n",
    "%autoreload 2\n",
    "%matplotlib inline"
   ]
  },
  {
   "cell_type": "markdown",
   "metadata": {},
   "source": [
    "# Read raw business license data"
   ]
  },
  {
   "cell_type": "code",
   "execution_count": null,
   "metadata": {
    "scrolled": true
   },
   "outputs": [],
   "source": [
    "# read and preprocess licensing data, then save to hdf\n",
    "# licensing = LicensingData('../data/raw/')\n",
    "# licensing.save()"
   ]
  },
  {
   "cell_type": "markdown",
   "metadata": {},
   "source": [
    "# Preprocess business license data"
   ]
  },
  {
   "cell_type": "code",
   "execution_count": 2,
   "metadata": {
    "scrolled": true
   },
   "outputs": [],
   "source": [
    "# load property values\n",
    "property_values_path  = '../data/processed/realestate.hdf'\n",
    "mvalfah = pd.concat(RealEstateData(property_values_path), axis=1)"
   ]
  },
  {
   "cell_type": "code",
   "execution_count": 3,
   "metadata": {
    "scrolled": true
   },
   "outputs": [],
   "source": [
    "# load licenses and temporarily exclude those outsize zipcodes for which real estate values are unavailable\n",
    "licensing_data_path = '../data/processed/licenses.hdf'\n",
    "licenses = LicensingData.load(licensing_data_path)\n",
    "licenses = licenses[licenses['ZIP CODE'].isin(mvalfah.columns)]"
   ]
  },
  {
   "cell_type": "code",
   "execution_count": 4,
   "metadata": {
    "scrolled": true
   },
   "outputs": [],
   "source": [
    "naming = {\n",
    "    'ID': 'RECORD_ID',\n",
    "    'LICENSE ID': 'LICENSE_ID',\n",
    "    'ACCOUNT NUMBER': 'ACCOUNT_ID',\n",
    "    'SITE NUMBER': 'SITE_ID',\n",
    "    'LEGAL NAME': 'NAME',\n",
    "    'DOING BUSINESS AS NAME': 'DBA',\n",
    "    'ZIP CODE': 'ZIP',\n",
    "    'LICENSE CODE': 'CODE',\n",
    "    'LICENSE DESCRIPTION': 'CODE_DESCRIPTION',\n",
    "    'BUSINESS ACTIVITY ID': 'ACTIVITY_ID',\n",
    "    'BUSINESS ACTIVITY': 'ACTIVITY',\n",
    "    'LICENSE NUMBER': 'LICENSE_NUMBER',\n",
    "    'APPLICATION TYPE': 'APPLICATION_TYPE',\n",
    "    'LICENSE STATUS': 'STATUS',\n",
    "    'DATE ISSUED': 'DATE_ISSUED',\n",
    "    'LICENSE STATUS CHANGE DATE': 'DATE_CHANGED',    \n",
    "    'LICENSE TERM START DATE': 'DATE_START', \n",
    "    'LICENSE TERM EXPIRATION DATE': 'DATE_END',\n",
    "    'APPLICATION REQUIREMENTS COMPLETE': 'DATE_COMPLETE',\n",
    "    'PAYMENT DATE': 'DATE_PAID',\n",
    "    'LICENSE APPROVED FOR ISSUANCE': 'DATE_APPROVED',\n",
    "    'APPLICATION CREATED DATE': 'DATE_CREATED'\n",
    "    }\n",
    "licenses.rename(naming, axis=1, inplace=True)\n",
    "\n",
    "# exclude record ID (redundant)\n",
    "licenses.drop('RECORD_ID', axis=1, inplace=True)\n",
    "licenses.drop('CONDITIONAL APPROVAL', axis=1, inplace=True)"
   ]
  },
  {
   "cell_type": "code",
   "execution_count": 5,
   "metadata": {
    "scrolled": true
   },
   "outputs": [],
   "source": [
    "# fix conflicting license number\n",
    "index = licenses.index[licenses.LICENSE_ID==1237028][0]\n",
    "licenses.loc[index, 'LICENSE_NUMBER'] = 2022"
   ]
  },
  {
   "cell_type": "code",
   "execution_count": 6,
   "metadata": {
    "scrolled": true
   },
   "outputs": [],
   "source": [
    "# split locations into separate database\n",
    "location_vars = ['NAME', 'DBA', 'ADDRESS', 'CITY', 'STATE', 'ZIP', \n",
    "                 'WARD', 'PRECINCT', 'WARD PRECINCT', 'POLICE DISTRICT', \n",
    "                 'LATITUDE', 'LONGITUDE', 'LOCATION', 'SSA']\n",
    "locations = licenses.groupby(['ACCOUNT_ID', 'SITE_ID'])[location_vars].first()\n",
    "locations.sort_index(level=0, inplace=True)\n",
    "locations.drop(['WARD PRECINCT', 'LOCATION'], axis=1, inplace=True)\n",
    "licenses.drop(labels=location_vars, axis=1, inplace=True)"
   ]
  },
  {
   "cell_type": "code",
   "execution_count": 7,
   "metadata": {
    "scrolled": true
   },
   "outputs": [],
   "source": [
    "# make license ID the new index\n",
    "licenses.set_index('LICENSE_ID', inplace=True)"
   ]
  },
  {
   "cell_type": "code",
   "execution_count": 8,
   "metadata": {
    "scrolled": true
   },
   "outputs": [],
   "source": [
    "# reorder collumns\n",
    "column_order = ['ACCOUNT_ID', 'SITE_ID', 'LICENSE_NUMBER', 'STATUS', 'APPLICATION_TYPE',\n",
    "               'CODE', 'CODE_DESCRIPTION', 'ACTIVITY_ID', 'ACTIVITY','DATE_START', 'DATE_END',\n",
    "                'DATE_CREATED', 'DATE_COMPLETE', 'DATE_PAID', 'DATE_APPROVED', 'DATE_ISSUED' , 'DATE_CHANGED']\n",
    "licenses = licenses[column_order]"
   ]
  },
  {
   "cell_type": "code",
   "execution_count": 9,
   "metadata": {
    "scrolled": true
   },
   "outputs": [],
   "source": [
    "# assign start date to each license\n",
    "licenses['START'] = licenses.DATE_START\n",
    "\n",
    "# fill in start dates with issued date (where unavailable)\n",
    "no_start = licenses[licenses.DATE_START.isnull()].index\n",
    "licenses.loc[no_start, 'START'] = licenses.loc[no_start, 'DATE_ISSUED']"
   ]
  },
  {
   "cell_type": "code",
   "execution_count": 10,
   "metadata": {
    "scrolled": true
   },
   "outputs": [],
   "source": [
    "# store cancellations\n",
    "cancellations = licenses[licenses.STATUS=='AAC']\n",
    "revokations = licenses[licenses.STATUS=='REV']"
   ]
  },
  {
   "cell_type": "code",
   "execution_count": 11,
   "metadata": {
    "scrolled": true
   },
   "outputs": [],
   "source": [
    "# set license end date\n",
    "licenses['END'] = licenses.DATE_END\n",
    "\n",
    "# fix 90 day term length for shared kitchens\n",
    "short_terms = licenses.ACTIVITY_ID=='805'\n",
    "licenses.loc[short_terms, 'END'] = licenses.loc[short_terms, 'START'] + pd.Timedelta(value=90, unit='D')\n",
    "\n",
    "# fix incorrect end date\n",
    "licenses.loc[1300260, 'END'] = licenses.loc[1300260, 'START'] + pd.Timedelta(value=1, unit='Y')\n",
    "\n",
    "# assign end date to terminated licenses\n",
    "terminated_ind = licenses.STATUS.isin(['AAC', 'REV'])\n",
    "licenses.loc[terminated_ind, 'END'] = licenses.loc[terminated_ind, 'DATE_CHANGED']\n",
    "licenses.loc[terminated_ind, 'START'] = licenses.loc[terminated_ind, 'DATE_CHANGED']"
   ]
  },
  {
   "cell_type": "code",
   "execution_count": 12,
   "metadata": {
    "scrolled": true
   },
   "outputs": [],
   "source": [
    "# exclude name/location changes (temporary)\n",
    "changes = licenses[~licenses.APPLICATION_TYPE.isin(['RENEW', 'ISSUE'])]\n",
    "licenses = licenses[licenses.APPLICATION_TYPE.isin(['RENEW', 'ISSUE'])]"
   ]
  },
  {
   "cell_type": "code",
   "execution_count": 13,
   "metadata": {
    "scrolled": true
   },
   "outputs": [],
   "source": [
    "# exclude licenses whose end date falls before start date\n",
    "incorrect_dates = (licenses.END - licenses.START) < pd.Timedelta(0)\n",
    "licenses = licenses[~incorrect_dates]\n",
    "\n",
    "# exclude licences whose terms ended before 2001\n",
    "licenses = licenses[licenses.END.apply(lambda x: x.year >= 2001)]\n",
    "\n",
    "# exclude reapplications/inquiries\n",
    "licenses = licenses[licenses.STATUS.isin(['AAI', 'AAC', 'REV'])]"
   ]
  },
  {
   "cell_type": "code",
   "execution_count": 14,
   "metadata": {
    "scrolled": true
   },
   "outputs": [],
   "source": [
    "# sort by start date\n",
    "licenses.sort_values(by='START', inplace=True)"
   ]
  },
  {
   "cell_type": "code",
   "execution_count": null,
   "metadata": {
    "scrolled": true
   },
   "outputs": [],
   "source": [
    "# save to HDF\n",
    "licenses.to_hdf('../data/processed/licenses.hdf', 'licenses', mode='a')\n",
    "changes.to_hdf('../data/processed/licenses.hdf', 'changes', mode='a')\n",
    "cancellations.to_hdf('../data/processed/licenses.hdf', 'cancellations', mode='a')\n",
    "revokations.to_hdf('../data/processed/licenses.hdf', 'revokations', mode='a')\n",
    "locations.to_hdf('../data/processed/locations.hdf', 'locations', mode='a')"
   ]
  },
  {
   "cell_type": "markdown",
   "metadata": {},
   "source": [
    "# ASSEMBLE INDIVIDUAL BUSINESS LICENSE HISTORIES"
   ]
  },
  {
   "cell_type": "code",
   "execution_count": 68,
   "metadata": {
    "scrolled": true
   },
   "outputs": [],
   "source": [
    "# compile license history dataframe\n",
    "license_history, failed = [], []\n",
    "for (indices, records) in licenses.groupby(['ACCOUNT_ID', 'LICENSE_NUMBER']):   \n",
    "    try:\n",
    "        license_history.append(License(records).aggregate())\n",
    "    except:\n",
    "        failed.append(indices)        \n",
    "license_history = pd.DataFrame(license_history)\n",
    "\n",
    "# reindex and set column order\n",
    "license_history.set_index('LICENSE_NUMBER', inplace=True)\n",
    "column_order = ['ACCOUNT_ID', 'SITE_ID', 'STATUS', 'START', 'END', 'ORIGINAL', 'CONTINUOUS', 'CODE', 'CODE_DESCRIPTION', 'ACTIVITY', 'ACTIVITY_ID']\n",
    "license_history = license_history[column_order]"
   ]
  },
  {
   "cell_type": "code",
   "execution_count": 117,
   "metadata": {
    "scrolled": true
   },
   "outputs": [],
   "source": [
    "# set end date to today for active licenses\n",
    "license_history.loc[license_history.STATUS == 'ACTIVE', 'END'] = pd.Timestamp.today()\n",
    "license_history['LIFESPAN'] = license_history.END - license_history.START"
   ]
  },
  {
   "cell_type": "code",
   "execution_count": 118,
   "metadata": {},
   "outputs": [],
   "source": [
    "# convert activity strings to tuples\n",
    "license_history['ACTIVITY_ID'] = license_history.ACTIVITY_ID.apply(lambda x: tuple(x.split(' | ')) if type(x) == str else tuple())\n",
    "license_history['ACTIVITY'] = license_history.ACTIVITY.apply(lambda x: tuple(x.split(' | ')) if type(x) == str else tuple())"
   ]
  },
  {
   "cell_type": "code",
   "execution_count": 119,
   "metadata": {},
   "outputs": [],
   "source": [
    "# map license codes to descriptions\n",
    "license_history.CODE = license_history.CODE.astype(str)\n",
    "codebook = dict(zip(license_history['CODE'].unique(), license_history['CODE_DESCRIPTION'].unique()))"
   ]
  },
  {
   "cell_type": "code",
   "execution_count": 121,
   "metadata": {
    "scrolled": true
   },
   "outputs": [],
   "source": [
    "# map activity names to activities\n",
    "activitybook = {}\n",
    "for ID, NAME in zip(license_history.ACTIVITY_ID.unique(), license_history.ACTIVITY.unique()):    \n",
    "    for i, n in zip(ID, NAME):\n",
    "        activitybook[i] = n"
   ]
  },
  {
   "cell_type": "code",
   "execution_count": 124,
   "metadata": {
    "scrolled": true
   },
   "outputs": [],
   "source": [
    "# remove descriptors\n",
    "license_history.drop(['CODE_DESCRIPTION', 'ACTIVITY'], axis=1, inplace=True)"
   ]
  },
  {
   "cell_type": "code",
   "execution_count": null,
   "metadata": {},
   "outputs": [],
   "source": [
    "# reset index\n",
    "location_history.set_index(['ACCOUNT_ID', 'SITE_ID'], inplace=True)\n",
    "location_history.sort_values(by='START', inplace=True)"
   ]
  },
  {
   "cell_type": "code",
   "execution_count": 142,
   "metadata": {
    "scrolled": true
   },
   "outputs": [],
   "source": [
    "# save preprocessed license history data\n",
    "license_history.to_hdf('../data/processed/licenses.hdf', 'history', mode='a')\n",
    "write_json('../data/processed/license_codebook.json', codebook)\n",
    "write_json('../data/processed/activity_codebook.json', activitybook)"
   ]
  },
  {
   "cell_type": "markdown",
   "metadata": {},
   "source": [
    "# LOAD BUSINESS LICENSE HISTORIES"
   ]
  },
  {
   "cell_type": "code",
   "execution_count": 7,
   "metadata": {
    "scrolled": true
   },
   "outputs": [],
   "source": [
    "# read preprocessed data (license history)\n",
    "license_history = pd.read_hdf('../data/processed/licenses.hdf', 'history')\n",
    "codebook = read_json('../data/processed/license_codebook.json')\n",
    "activitybook = read_json('../data/processed/activity_codebook.json')"
   ]
  },
  {
   "cell_type": "markdown",
   "metadata": {},
   "source": [
    "# ASSEMBLE BUSINESS LOCATION HISTORIES"
   ]
  },
  {
   "cell_type": "code",
   "execution_count": 13,
   "metadata": {
    "scrolled": true
   },
   "outputs": [],
   "source": [
    "# identify unique locations\n",
    "location_data = license_history.groupby(['ACCOUNT_ID', 'SITE_ID'])\n",
    "\n",
    "location_history = []\n",
    "for index, records in location_data:\n",
    "    location_history.append(Location(records).aggregate())\n",
    "location_history = pd.DataFrame(location_history)\n",
    "\n",
    "# set column order\n",
    "column_order = ['ACCOUNT_ID', 'SITE_ID', 'ACTIVE', 'START', 'END', 'LIFESPAN', 'ORIGINAL', 'CONTINUOUS', 'NUM_LICENSES', 'ACTIVITIES', 'CODES']\n",
    "location_history = location_history[column_order]\n",
    "\n",
    "# set lifespan to days\n",
    "location_history.LIFESPAN = location_history.LIFESPAN.apply(lambda x: x.days)\n",
    "\n",
    "# SAVE\n",
    "location_history.to_hdf('../data/processed/locations.hdf', 'history', mode='a')"
   ]
  },
  {
   "cell_type": "markdown",
   "metadata": {},
   "source": [
    "# LOAD BUSINESS LOCATION HISTORIES"
   ]
  },
  {
   "cell_type": "code",
   "execution_count": 28,
   "metadata": {
    "scrolled": true
   },
   "outputs": [],
   "source": [
    "# load aggregate location data\n",
    "location_history = pd.read_hdf('../data/processed/locations.hdf', 'history')\n",
    "\n",
    "# read locations\n",
    "locations = pd.read_hdf('../data/processed/locations.hdf', 'locations')"
   ]
  }
 ],
 "metadata": {
  "kernelspec": {
   "display_name": "incubator",
   "language": "python",
   "name": "incubator"
  },
  "language_info": {
   "codemirror_mode": {
    "name": "ipython",
    "version": 3
   },
   "file_extension": ".py",
   "mimetype": "text/x-python",
   "name": "python",
   "nbconvert_exporter": "python",
   "pygments_lexer": "ipython3",
   "version": "3.6.4"
  }
 },
 "nbformat": 4,
 "nbformat_minor": 2
}
